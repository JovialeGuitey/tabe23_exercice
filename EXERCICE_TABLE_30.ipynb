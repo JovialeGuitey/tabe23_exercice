{
 "cells": [
  {
   "cell_type": "code",
   "execution_count": 39,
   "metadata": {},
   "outputs": [],
   "source": [
    "import whyqd as _w\n",
    "import numpy as np\n",
    "import pandas as pd"
   ]
  },
  {
   "cell_type": "code",
   "execution_count": 40,
   "metadata": {},
   "outputs": [],
   "source": [
    "schema = _w.Schema()\n",
    "\n",
    "details = {\n",
    "        \"name\": \"Gender_inequality_in_education\",\n",
    "        \"title\": \"Gender_inequality_in_education\",\n",
    "        \"description\": \"\"\"Les inegalitès de genre au niveau de la scolarisation .\"\"\"\n",
    "}\n",
    "schema = _w.Schema()\n",
    "schema.set_details(**details)"
   ]
  },
  {
   "cell_type": "code",
   "execution_count": 41,
   "metadata": {},
   "outputs": [],
   "source": [
    "fields = [\n",
    "    {\n",
    "        \"name\": \"Country Name\",\n",
    "        \"title\": \"Country Name\",\n",
    "        \"type\": \"string\",\n",
    "        \"description\": \"Official country names.\",\n",
    "        \"constraints\": {\n",
    "            \"required\": True\n",
    "        }\n",
    "    },\n",
    "    {\n",
    "        \"name\": \"HDI Category\",\n",
    "        \"title\": \"HDI Category\",\n",
    "        \"type\": \"string\",\n",
    "        \"description\": \"Human Development Index Category derived from the HDI Rank.\",\n",
    "    },\n",
    "    {\n",
    "        \"name\": \"Indicator Name\",\n",
    "        \"title\": \"Indicator Name\",\n",
    "        \"type\": \"string\",\n",
    "        \"description\": \"Indicator described in the data series.\",\n",
    "    },\n",
    "    {\n",
    "        \"name\": \"Reference\",\n",
    "        \"title\": \"Reference\",\n",
    "        \"type\": \"string\",\n",
    "        \"description\": \"Reference to data source.\",\n",
    "    },\n",
    "    {\n",
    "        \"name\": \"Year\",\n",
    "        \"title\": \"Year\",\n",
    "        \"type\": \"year\",\n",
    "        \"description\": \"Year of release.\",\n",
    "    },\n",
    "    {\n",
    "        \"name\": \"Values\",\n",
    "        \"title\": \"Values\",\n",
    "        \"type\": \"number\",\n",
    "        \"description\": \"Value for the Year and Indicator Name.\",\n",
    "        \"constraints\": {\n",
    "            \"required\": True\n",
    "        }\n",
    "    },\n",
    "]\n",
    "for field in fields:\n",
    "    schema.set_field(**field)\n",
    "\n"
   ]
  },
  {
   "cell_type": "code",
   "execution_count": 42,
   "metadata": {},
   "outputs": [
    {
     "data": {
      "text/plain": [
       "{'name': 'country_name',\n",
       " 'type': 'string',\n",
       " 'constraints': {'required': True},\n",
       " 'title': 'Country Name',\n",
       " 'description': 'Official country names.'}"
      ]
     },
     "execution_count": 42,
     "metadata": {},
     "output_type": "execute_result"
    }
   ],
   "source": [
    "schema.field(\"country_name\")\n",
    "{'name': 'country_name',\n",
    " 'type': 'string',\n",
    " 'constraints': {'required': True},\n",
    " 'title': 'Country Name',\n",
    " 'description': 'Official country names.'\n",
    " }\n",
    "schema.field(\"country_name\")"
   ]
  },
  {
   "cell_type": "code",
   "execution_count": 43,
   "metadata": {},
   "outputs": [
    {
     "data": {
      "text/plain": [
       "True"
      ]
     },
     "execution_count": 43,
     "metadata": {},
     "output_type": "execute_result"
    }
   ],
   "source": [
    "directory = \"TABLE_30\"\n",
    "filename = \"schema_table_30\"\n",
    "schema.save(directory, filename, overwrite=True)"
   ]
  },
  {
   "cell_type": "code",
   "execution_count": 44,
   "metadata": {},
   "outputs": [
    {
     "data": {
      "text/html": [
       "<style>pre { white-space: pre !important; }</style>"
      ],
      "text/plain": [
       "<IPython.core.display.HTML object>"
      ]
     },
     "metadata": {},
     "output_type": "display_data"
    }
   ],
   "source": [
    "from IPython.core.display import HTML\n",
    "display(HTML(\"<style>pre { white-space: pre !important; }</style>\"))\n",
    "\n",
    "import numpy as np\n",
    "import whyqd as _w\n",
    "\n",
    "SCHEMA_SOURCE = \"TABLE_30schema_table_30.json\"\n",
    "DIRECTORY = \"TABLE_30\"\n",
    "INPUT_DATA = [ \"/Users/guiteyjoviale/Documents/STAGE DCDJ/FORMATION BOYERA/HDR 2007-2008 Table 30.xlsx\"]\n",
    "method = _w.Method(SCHEMA_SOURCE, directory=DIRECTORY, input_data=INPUT_DATA)"
   ]
  },
  {
   "cell_type": "code",
   "execution_count": 45,
   "metadata": {},
   "outputs": [
    {
     "name": "stdout",
     "output_type": "stream",
     "text": [
      "\n",
      "\n",
      "Data id: 0bb99e6c-8f28-4416-9d58-eebc21aa479a\n",
      "Original source: /Users/guiteyjoviale/Documents/STAGE DCDJ/FORMATION BOYERA/HDR 2007-2008 Table 30.xlsx\n",
      "\n",
      "====  ============  ============  ============  ============  ============  ============  ============  ============  ============  ============  =============  =============  =============  =============  =============  =============  =============  =============  =============  =============  =============  =============  =============  =============  =============  =============  =============  =============  =============  =============  =============\n",
      "  ..    Unnamed: 0    Unnamed: 1    Unnamed: 2    Unnamed: 3    Unnamed: 4    Unnamed: 5    Unnamed: 6    Unnamed: 7    Unnamed: 8    Unnamed: 9    Unnamed: 10    Unnamed: 11    Unnamed: 12    Unnamed: 13    Unnamed: 14    Unnamed: 15    Unnamed: 16    Unnamed: 17    Unnamed: 18    Unnamed: 19    Unnamed: 20    Unnamed: 21    Unnamed: 22    Unnamed: 23    Unnamed: 24    Unnamed: 25    Unnamed: 26    Unnamed: 27    Unnamed: 28    Unnamed: 29    Unnamed: 30\n",
      "====  ============  ============  ============  ============  ============  ============  ============  ============  ============  ============  =============  =============  =============  =============  =============  =============  =============  =============  =============  =============  =============  =============  =============  =============  =============  =============  =============  =============  =============  =============  =============\n",
      "   0           nan           nan           nan           nan           nan           nan           nan           nan           nan           nan            nan            nan            nan            nan            nan            nan            nan            nan            nan            nan            nan            nan            nan            nan            nan            nan            nan            nan            nan            nan            nan\n",
      "   1           nan           nan           nan           nan           nan           nan           nan           nan           nan           nan            nan            nan            nan            nan            nan            nan            nan            nan            nan            nan            nan            nan            nan            nan            nan            nan            nan            nan            nan            nan            nan\n",
      "   2           nan           nan           nan           nan           nan           nan           nan           nan           nan           nan            nan            nan            nan            nan            nan            nan            nan            nan            nan            nan            nan            nan            nan            nan            nan            nan            nan            nan            nan            nan            nan\n",
      "====  ============  ============  ============  ============  ============  ============  ============  ============  ============  ============  =============  =============  =============  =============  =============  =============  =============  =============  =============  =============  =============  =============  =============  =============  =============  =============  =============  =============  =============  =============  =============\n",
      "\n"
     ]
    }
   ],
   "source": [
    "print(method.print_input_data())"
   ]
  },
  {
   "cell_type": "code",
   "execution_count": 46,
   "metadata": {},
   "outputs": [
    {
     "data": {
      "text/plain": [
       "['CATEGORISE', 'DEBLANK', 'DEDUPE', 'DELETE', 'MELT', 'REBASE', 'RENAME']"
      ]
     },
     "execution_count": 46,
     "metadata": {},
     "output_type": "execute_result"
    }
   ],
   "source": [
    "method.default_morph_types"
   ]
  },
  {
   "cell_type": "code",
   "execution_count": 47,
   "metadata": {},
   "outputs": [
    {
     "data": {
      "text/plain": [
       "{'name': 'CATEGORISE',\n",
       " 'title': 'Categorise',\n",
       " 'type': 'morph',\n",
       " 'description': 'Convert row-level categories into column categorisations.',\n",
       " 'structure': ['rows', 'column_names']}"
      ]
     },
     "execution_count": 47,
     "metadata": {},
     "output_type": "execute_result"
    }
   ],
   "source": [
    "method.default_morph_settings(\"CATEGORISE\")"
   ]
  },
  {
   "cell_type": "code",
   "execution_count": 48,
   "metadata": {},
   "outputs": [
    {
     "data": {
      "text/plain": [
       "{'name': 'DEBLANK',\n",
       " 'title': 'De-blank',\n",
       " 'type': 'morph',\n",
       " 'description': 'Remove all blank columns and rows from a DataFrame.',\n",
       " 'structure': []}"
      ]
     },
     "execution_count": 48,
     "metadata": {},
     "output_type": "execute_result"
    }
   ],
   "source": [
    "method.default_morph_settings(\"DEBLANK\")"
   ]
  },
  {
   "cell_type": "code",
   "execution_count": 49,
   "metadata": {},
   "outputs": [
    {
     "data": {
      "text/plain": [
       "{'name': 'DEDUPE',\n",
       " 'title': 'Deduplicate',\n",
       " 'type': 'morph',\n",
       " 'description': 'Remove all duplicated rows from a DataFrame.',\n",
       " 'structure': []}"
      ]
     },
     "execution_count": 49,
     "metadata": {},
     "output_type": "execute_result"
    }
   ],
   "source": [
    "method.default_morph_settings(\"DEDUPE\")"
   ]
  },
  {
   "cell_type": "code",
   "execution_count": 50,
   "metadata": {},
   "outputs": [
    {
     "data": {
      "text/plain": [
       "{'name': 'DELETE',\n",
       " 'title': 'Delete',\n",
       " 'type': 'morph',\n",
       " 'description': \"Delete rows provided in a list. They don't have to be contiguous.\",\n",
       " 'structure': ['rows']}"
      ]
     },
     "execution_count": 50,
     "metadata": {},
     "output_type": "execute_result"
    }
   ],
   "source": [
    "method.default_morph_settings(\"DELETE\")"
   ]
  },
  {
   "cell_type": "code",
   "execution_count": 51,
   "metadata": {},
   "outputs": [
    {
     "data": {
      "text/plain": [
       "{}"
      ]
     },
     "execution_count": 51,
     "metadata": {},
     "output_type": "execute_result"
    }
   ],
   "source": [
    "method.default_morph_settings(\"WELT\")"
   ]
  },
  {
   "cell_type": "code",
   "execution_count": 52,
   "metadata": {},
   "outputs": [
    {
     "data": {
      "text/plain": [
       "{'name': 'REBASE',\n",
       " 'title': 'Rebase',\n",
       " 'type': 'morph',\n",
       " 'description': 'Rebase the header row at an indexed row and drop rows above that point.',\n",
       " 'structure': ['rows']}"
      ]
     },
     "execution_count": 52,
     "metadata": {},
     "output_type": "execute_result"
    }
   ],
   "source": [
    "method.default_morph_settings(\"REBASE\")"
   ]
  },
  {
   "cell_type": "code",
   "execution_count": 53,
   "metadata": {},
   "outputs": [
    {
     "data": {
      "text/plain": [
       "{'name': 'RENAME',\n",
       " 'title': 'Rename',\n",
       " 'type': 'morph',\n",
       " 'description': 'Rename header columns listed in a dict.',\n",
       " 'structure': ['column_names']}"
      ]
     },
     "execution_count": 53,
     "metadata": {},
     "output_type": "execute_result"
    }
   ],
   "source": [
    "method.default_morph_settings(\"RENAME\")"
   ]
  },
  {
   "cell_type": "code",
   "execution_count": 54,
   "metadata": {},
   "outputs": [
    {
     "data": {
      "text/html": [
       "<div>\n",
       "<style scoped>\n",
       "    .dataframe tbody tr th:only-of-type {\n",
       "        vertical-align: middle;\n",
       "    }\n",
       "\n",
       "    .dataframe tbody tr th {\n",
       "        vertical-align: top;\n",
       "    }\n",
       "\n",
       "    .dataframe thead th {\n",
       "        text-align: right;\n",
       "    }\n",
       "</style>\n",
       "<table border=\"1\" class=\"dataframe\">\n",
       "  <thead>\n",
       "    <tr style=\"text-align: right;\">\n",
       "      <th></th>\n",
       "      <th>Unnamed: 0</th>\n",
       "      <th>Unnamed: 1</th>\n",
       "      <th>Unnamed: 2</th>\n",
       "      <th>Unnamed: 3</th>\n",
       "      <th>Unnamed: 4</th>\n",
       "      <th>Unnamed: 5</th>\n",
       "      <th>Unnamed: 6</th>\n",
       "      <th>Unnamed: 7</th>\n",
       "      <th>Unnamed: 8</th>\n",
       "      <th>Unnamed: 9</th>\n",
       "      <th>...</th>\n",
       "      <th>Unnamed: 21</th>\n",
       "      <th>Unnamed: 22</th>\n",
       "      <th>Unnamed: 23</th>\n",
       "      <th>Unnamed: 24</th>\n",
       "      <th>Unnamed: 25</th>\n",
       "      <th>Unnamed: 26</th>\n",
       "      <th>Unnamed: 27</th>\n",
       "      <th>Unnamed: 28</th>\n",
       "      <th>Unnamed: 29</th>\n",
       "      <th>Unnamed: 30</th>\n",
       "    </tr>\n",
       "  </thead>\n",
       "  <tbody>\n",
       "    <tr>\n",
       "      <th>0</th>\n",
       "      <td>NaN</td>\n",
       "      <td>NaN</td>\n",
       "      <td>NaN</td>\n",
       "      <td>NaN</td>\n",
       "      <td>NaN</td>\n",
       "      <td>NaN</td>\n",
       "      <td>NaN</td>\n",
       "      <td>NaN</td>\n",
       "      <td>NaN</td>\n",
       "      <td>NaN</td>\n",
       "      <td>...</td>\n",
       "      <td>NaN</td>\n",
       "      <td>NaN</td>\n",
       "      <td>NaN</td>\n",
       "      <td>NaN</td>\n",
       "      <td>NaN</td>\n",
       "      <td>NaN</td>\n",
       "      <td>NaN</td>\n",
       "      <td>NaN</td>\n",
       "      <td>NaN</td>\n",
       "      <td>NaN</td>\n",
       "    </tr>\n",
       "    <tr>\n",
       "      <th>1</th>\n",
       "      <td>NaN</td>\n",
       "      <td>NaN</td>\n",
       "      <td>NaN</td>\n",
       "      <td>NaN</td>\n",
       "      <td>NaN</td>\n",
       "      <td>NaN</td>\n",
       "      <td>NaN</td>\n",
       "      <td>NaN</td>\n",
       "      <td>NaN</td>\n",
       "      <td>NaN</td>\n",
       "      <td>...</td>\n",
       "      <td>NaN</td>\n",
       "      <td>NaN</td>\n",
       "      <td>NaN</td>\n",
       "      <td>NaN</td>\n",
       "      <td>NaN</td>\n",
       "      <td>NaN</td>\n",
       "      <td>NaN</td>\n",
       "      <td>NaN</td>\n",
       "      <td>NaN</td>\n",
       "      <td>NaN</td>\n",
       "    </tr>\n",
       "    <tr>\n",
       "      <th>2</th>\n",
       "      <td>NaN</td>\n",
       "      <td>NaN</td>\n",
       "      <td>NaN</td>\n",
       "      <td>NaN</td>\n",
       "      <td>NaN</td>\n",
       "      <td>NaN</td>\n",
       "      <td>NaN</td>\n",
       "      <td>NaN</td>\n",
       "      <td>NaN</td>\n",
       "      <td>NaN</td>\n",
       "      <td>...</td>\n",
       "      <td>NaN</td>\n",
       "      <td>NaN</td>\n",
       "      <td>NaN</td>\n",
       "      <td>NaN</td>\n",
       "      <td>NaN</td>\n",
       "      <td>NaN</td>\n",
       "      <td>NaN</td>\n",
       "      <td>NaN</td>\n",
       "      <td>NaN</td>\n",
       "      <td>NaN</td>\n",
       "    </tr>\n",
       "    <tr>\n",
       "      <th>3</th>\n",
       "      <td>NaN</td>\n",
       "      <td>NaN</td>\n",
       "      <td>… and achieving equality for all women and men</td>\n",
       "      <td>NaN</td>\n",
       "      <td>NaN</td>\n",
       "      <td>NaN</td>\n",
       "      <td>NaN</td>\n",
       "      <td>NaN</td>\n",
       "      <td>NaN</td>\n",
       "      <td>NaN</td>\n",
       "      <td>...</td>\n",
       "      <td>NaN</td>\n",
       "      <td>NaN</td>\n",
       "      <td>NaN</td>\n",
       "      <td>NaN</td>\n",
       "      <td>NaN</td>\n",
       "      <td>NaN</td>\n",
       "      <td>NaN</td>\n",
       "      <td>NaN</td>\n",
       "      <td>NaN</td>\n",
       "      <td>NaN</td>\n",
       "    </tr>\n",
       "    <tr>\n",
       "      <th>4</th>\n",
       "      <td>30  Gender inequality in education</td>\n",
       "      <td>NaN</td>\n",
       "      <td>NaN</td>\n",
       "      <td>NaN</td>\n",
       "      <td>NaN</td>\n",
       "      <td>NaN</td>\n",
       "      <td>NaN</td>\n",
       "      <td>NaN</td>\n",
       "      <td>NaN</td>\n",
       "      <td>NaN</td>\n",
       "      <td>...</td>\n",
       "      <td>NaN</td>\n",
       "      <td>NaN</td>\n",
       "      <td>NaN</td>\n",
       "      <td>NaN</td>\n",
       "      <td>NaN</td>\n",
       "      <td>NaN</td>\n",
       "      <td>NaN</td>\n",
       "      <td>NaN</td>\n",
       "      <td>NaN</td>\n",
       "      <td>NaN</td>\n",
       "    </tr>\n",
       "    <tr>\n",
       "      <th>5</th>\n",
       "      <td>NaN</td>\n",
       "      <td>NaN</td>\n",
       "      <td>NaN</td>\n",
       "      <td>NaN</td>\n",
       "      <td>NaN</td>\n",
       "      <td>NaN</td>\n",
       "      <td>NaN</td>\n",
       "      <td>NaN</td>\n",
       "      <td>NaN</td>\n",
       "      <td>NaN</td>\n",
       "      <td>...</td>\n",
       "      <td>NaN</td>\n",
       "      <td>NaN</td>\n",
       "      <td>NaN</td>\n",
       "      <td>NaN</td>\n",
       "      <td>NaN</td>\n",
       "      <td>NaN</td>\n",
       "      <td>NaN</td>\n",
       "      <td>NaN</td>\n",
       "      <td>NaN</td>\n",
       "      <td>NaN</td>\n",
       "    </tr>\n",
       "    <tr>\n",
       "      <th>6</th>\n",
       "      <td>NaN</td>\n",
       "      <td>NaN</td>\n",
       "      <td>NaN</td>\n",
       "      <td>NaN</td>\n",
       "      <td>NaN</td>\n",
       "      <td>NaN</td>\n",
       "      <td>NaN</td>\n",
       "      <td>NaN</td>\n",
       "      <td>NaN</td>\n",
       "      <td>MDG</td>\n",
       "      <td>...</td>\n",
       "      <td>MDG</td>\n",
       "      <td>NaN</td>\n",
       "      <td>NaN</td>\n",
       "      <td>NaN</td>\n",
       "      <td>MDG</td>\n",
       "      <td>NaN</td>\n",
       "      <td>NaN</td>\n",
       "      <td>NaN</td>\n",
       "      <td>NaN</td>\n",
       "      <td>NaN</td>\n",
       "    </tr>\n",
       "    <tr>\n",
       "      <th>7</th>\n",
       "      <td>NaN</td>\n",
       "      <td>NaN</td>\n",
       "      <td>NaN</td>\n",
       "      <td>Adult literacya                               ...</td>\n",
       "      <td>NaN</td>\n",
       "      <td>NaN</td>\n",
       "      <td>NaN</td>\n",
       "      <td>Youth literacya</td>\n",
       "      <td>NaN</td>\n",
       "      <td>NaN</td>\n",
       "      <td>...</td>\n",
       "      <td>NaN</td>\n",
       "      <td>NaN</td>\n",
       "      <td>Gross tertiary enrolmentb,d</td>\n",
       "      <td>NaN</td>\n",
       "      <td>NaN</td>\n",
       "      <td>NaN</td>\n",
       "      <td>NaN</td>\n",
       "      <td>NaN</td>\n",
       "      <td>NaN</td>\n",
       "      <td>NaN</td>\n",
       "    </tr>\n",
       "    <tr>\n",
       "      <th>8</th>\n",
       "      <td>NaN</td>\n",
       "      <td>NaN</td>\n",
       "      <td>NaN</td>\n",
       "      <td>Female rate\\n(% aged 15 and older)\\n1995-2005</td>\n",
       "      <td>NaN</td>\n",
       "      <td>Ratio of female rate to male rate\\n1995-2005</td>\n",
       "      <td>NaN</td>\n",
       "      <td>Female rate\\n(% aged      15-24)\\n1995-2005</td>\n",
       "      <td>NaN</td>\n",
       "      <td>Ratio of female rate to male rate\\n1995-2005</td>\n",
       "      <td>...</td>\n",
       "      <td>Ratio of female rate to male rate\\n2005</td>\n",
       "      <td>NaN</td>\n",
       "      <td>Female ratio\\n(%)\\n2005</td>\n",
       "      <td>NaN</td>\n",
       "      <td>Ratio of female rate to male rate\\n2005</td>\n",
       "      <td>NaN</td>\n",
       "      <td>NaN</td>\n",
       "      <td>NaN</td>\n",
       "      <td>NaN</td>\n",
       "      <td>NaN</td>\n",
       "    </tr>\n",
       "    <tr>\n",
       "      <th>9</th>\n",
       "      <td>NaN</td>\n",
       "      <td>NaN</td>\n",
       "      <td>NaN</td>\n",
       "      <td>NaN</td>\n",
       "      <td>NaN</td>\n",
       "      <td>NaN</td>\n",
       "      <td>NaN</td>\n",
       "      <td>NaN</td>\n",
       "      <td>NaN</td>\n",
       "      <td>NaN</td>\n",
       "      <td>...</td>\n",
       "      <td>NaN</td>\n",
       "      <td>NaN</td>\n",
       "      <td>NaN</td>\n",
       "      <td>NaN</td>\n",
       "      <td>NaN</td>\n",
       "      <td>NaN</td>\n",
       "      <td>NaN</td>\n",
       "      <td>NaN</td>\n",
       "      <td>NaN</td>\n",
       "      <td>NaN</td>\n",
       "    </tr>\n",
       "    <tr>\n",
       "      <th>10</th>\n",
       "      <td>NaN</td>\n",
       "      <td>NaN</td>\n",
       "      <td>NaN</td>\n",
       "      <td>NaN</td>\n",
       "      <td>NaN</td>\n",
       "      <td>NaN</td>\n",
       "      <td>NaN</td>\n",
       "      <td>NaN</td>\n",
       "      <td>NaN</td>\n",
       "      <td>NaN</td>\n",
       "      <td>...</td>\n",
       "      <td>NaN</td>\n",
       "      <td>NaN</td>\n",
       "      <td>NaN</td>\n",
       "      <td>NaN</td>\n",
       "      <td>NaN</td>\n",
       "      <td>NaN</td>\n",
       "      <td>NaN</td>\n",
       "      <td>NaN</td>\n",
       "      <td>NaN</td>\n",
       "      <td>NaN</td>\n",
       "    </tr>\n",
       "    <tr>\n",
       "      <th>11</th>\n",
       "      <td>HDI rank</td>\n",
       "      <td>NaN</td>\n",
       "      <td>NaN</td>\n",
       "      <td>NaN</td>\n",
       "      <td>NaN</td>\n",
       "      <td>NaN</td>\n",
       "      <td>NaN</td>\n",
       "      <td>NaN</td>\n",
       "      <td>NaN</td>\n",
       "      <td>NaN</td>\n",
       "      <td>...</td>\n",
       "      <td>NaN</td>\n",
       "      <td>NaN</td>\n",
       "      <td>NaN</td>\n",
       "      <td>NaN</td>\n",
       "      <td>NaN</td>\n",
       "      <td>NaN</td>\n",
       "      <td>NaN</td>\n",
       "      <td>NaN</td>\n",
       "      <td>NaN</td>\n",
       "      <td>NaN</td>\n",
       "    </tr>\n",
       "    <tr>\n",
       "      <th>12</th>\n",
       "      <td>NaN</td>\n",
       "      <td>NaN</td>\n",
       "      <td>NaN</td>\n",
       "      <td>NaN</td>\n",
       "      <td>NaN</td>\n",
       "      <td>NaN</td>\n",
       "      <td>NaN</td>\n",
       "      <td>NaN</td>\n",
       "      <td>NaN</td>\n",
       "      <td>NaN</td>\n",
       "      <td>...</td>\n",
       "      <td>NaN</td>\n",
       "      <td>NaN</td>\n",
       "      <td>NaN</td>\n",
       "      <td>NaN</td>\n",
       "      <td>NaN</td>\n",
       "      <td>NaN</td>\n",
       "      <td>NaN</td>\n",
       "      <td>NaN</td>\n",
       "      <td>NaN</td>\n",
       "      <td>NaN</td>\n",
       "    </tr>\n",
       "    <tr>\n",
       "      <th>13</th>\n",
       "      <td>HIGH HUMAN DEVELOPMENT</td>\n",
       "      <td>NaN</td>\n",
       "      <td>NaN</td>\n",
       "      <td>NaN</td>\n",
       "      <td>NaN</td>\n",
       "      <td>NaN</td>\n",
       "      <td>NaN</td>\n",
       "      <td>NaN</td>\n",
       "      <td>NaN</td>\n",
       "      <td>NaN</td>\n",
       "      <td>...</td>\n",
       "      <td>NaN</td>\n",
       "      <td>NaN</td>\n",
       "      <td>NaN</td>\n",
       "      <td>NaN</td>\n",
       "      <td>NaN</td>\n",
       "      <td>NaN</td>\n",
       "      <td>NaN</td>\n",
       "      <td>NaN</td>\n",
       "      <td>NaN</td>\n",
       "      <td>NaN</td>\n",
       "    </tr>\n",
       "    <tr>\n",
       "      <th>14</th>\n",
       "      <td>1</td>\n",
       "      <td>Iceland</td>\n",
       "      <td>NaN</td>\n",
       "      <td>..</td>\n",
       "      <td>NaN</td>\n",
       "      <td>..</td>\n",
       "      <td>NaN</td>\n",
       "      <td>..</td>\n",
       "      <td>NaN</td>\n",
       "      <td>..</td>\n",
       "      <td>...</td>\n",
       "      <td>1.03</td>\n",
       "      <td>e</td>\n",
       "      <td>93</td>\n",
       "      <td>e</td>\n",
       "      <td>1.85</td>\n",
       "      <td>e</td>\n",
       "      <td>NaN</td>\n",
       "      <td>NaN</td>\n",
       "      <td>NaN</td>\n",
       "      <td>NaN</td>\n",
       "    </tr>\n",
       "    <tr>\n",
       "      <th>15</th>\n",
       "      <td>2</td>\n",
       "      <td>Norway</td>\n",
       "      <td>NaN</td>\n",
       "      <td>..</td>\n",
       "      <td>NaN</td>\n",
       "      <td>..</td>\n",
       "      <td>NaN</td>\n",
       "      <td>..</td>\n",
       "      <td>NaN</td>\n",
       "      <td>..</td>\n",
       "      <td>...</td>\n",
       "      <td>1.01</td>\n",
       "      <td>NaN</td>\n",
       "      <td>97</td>\n",
       "      <td>NaN</td>\n",
       "      <td>1.54</td>\n",
       "      <td>NaN</td>\n",
       "      <td>NaN</td>\n",
       "      <td>NaN</td>\n",
       "      <td>NaN</td>\n",
       "      <td>NaN</td>\n",
       "    </tr>\n",
       "    <tr>\n",
       "      <th>16</th>\n",
       "      <td>3</td>\n",
       "      <td>Australia</td>\n",
       "      <td>NaN</td>\n",
       "      <td>..</td>\n",
       "      <td>NaN</td>\n",
       "      <td>..</td>\n",
       "      <td>NaN</td>\n",
       "      <td>..</td>\n",
       "      <td>NaN</td>\n",
       "      <td>..</td>\n",
       "      <td>...</td>\n",
       "      <td>0.95</td>\n",
       "      <td>NaN</td>\n",
       "      <td>80</td>\n",
       "      <td>NaN</td>\n",
       "      <td>1.25</td>\n",
       "      <td>NaN</td>\n",
       "      <td>NaN</td>\n",
       "      <td>NaN</td>\n",
       "      <td>NaN</td>\n",
       "      <td>NaN</td>\n",
       "    </tr>\n",
       "  </tbody>\n",
       "</table>\n",
       "<p>17 rows × 31 columns</p>\n",
       "</div>"
      ],
      "text/plain": [
       "                             Unnamed: 0 Unnamed: 1  \\\n",
       "0                                   NaN        NaN   \n",
       "1                                   NaN        NaN   \n",
       "2                                   NaN        NaN   \n",
       "3                                   NaN        NaN   \n",
       "4   30  Gender inequality in education         NaN   \n",
       "5                                   NaN        NaN   \n",
       "6                                   NaN        NaN   \n",
       "7                                   NaN        NaN   \n",
       "8                                   NaN        NaN   \n",
       "9                                   NaN        NaN   \n",
       "10                                  NaN        NaN   \n",
       "11                             HDI rank        NaN   \n",
       "12                                  NaN        NaN   \n",
       "13               HIGH HUMAN DEVELOPMENT        NaN   \n",
       "14                                    1    Iceland   \n",
       "15                                    2     Norway   \n",
       "16                                    3  Australia   \n",
       "\n",
       "                                        Unnamed: 2  \\\n",
       "0                                              NaN   \n",
       "1                                              NaN   \n",
       "2                                              NaN   \n",
       "3   … and achieving equality for all women and men   \n",
       "4                                              NaN   \n",
       "5                                              NaN   \n",
       "6                                              NaN   \n",
       "7                                              NaN   \n",
       "8                                              NaN   \n",
       "9                                              NaN   \n",
       "10                                             NaN   \n",
       "11                                             NaN   \n",
       "12                                             NaN   \n",
       "13                                             NaN   \n",
       "14                                             NaN   \n",
       "15                                             NaN   \n",
       "16                                             NaN   \n",
       "\n",
       "                                           Unnamed: 3 Unnamed: 4  \\\n",
       "0                                                 NaN        NaN   \n",
       "1                                                 NaN        NaN   \n",
       "2                                                 NaN        NaN   \n",
       "3                                                 NaN        NaN   \n",
       "4                                                 NaN        NaN   \n",
       "5                                                 NaN        NaN   \n",
       "6                                                 NaN        NaN   \n",
       "7   Adult literacya                               ...        NaN   \n",
       "8       Female rate\\n(% aged 15 and older)\\n1995-2005        NaN   \n",
       "9                                                 NaN        NaN   \n",
       "10                                                NaN        NaN   \n",
       "11                                                NaN        NaN   \n",
       "12                                                NaN        NaN   \n",
       "13                                                NaN        NaN   \n",
       "14                                                 ..        NaN   \n",
       "15                                                 ..        NaN   \n",
       "16                                                 ..        NaN   \n",
       "\n",
       "                                      Unnamed: 5 Unnamed: 6  \\\n",
       "0                                            NaN        NaN   \n",
       "1                                            NaN        NaN   \n",
       "2                                            NaN        NaN   \n",
       "3                                            NaN        NaN   \n",
       "4                                            NaN        NaN   \n",
       "5                                            NaN        NaN   \n",
       "6                                            NaN        NaN   \n",
       "7                                            NaN        NaN   \n",
       "8   Ratio of female rate to male rate\\n1995-2005        NaN   \n",
       "9                                            NaN        NaN   \n",
       "10                                           NaN        NaN   \n",
       "11                                           NaN        NaN   \n",
       "12                                           NaN        NaN   \n",
       "13                                           NaN        NaN   \n",
       "14                                            ..        NaN   \n",
       "15                                            ..        NaN   \n",
       "16                                            ..        NaN   \n",
       "\n",
       "                                           Unnamed: 7 Unnamed: 8  \\\n",
       "0                                                 NaN        NaN   \n",
       "1                                                 NaN        NaN   \n",
       "2                                                 NaN        NaN   \n",
       "3                                                 NaN        NaN   \n",
       "4                                                 NaN        NaN   \n",
       "5                                                 NaN        NaN   \n",
       "6                                                 NaN        NaN   \n",
       "7   Youth literacya                                          NaN   \n",
       "8         Female rate\\n(% aged      15-24)\\n1995-2005        NaN   \n",
       "9                                                 NaN        NaN   \n",
       "10                                                NaN        NaN   \n",
       "11                                                NaN        NaN   \n",
       "12                                                NaN        NaN   \n",
       "13                                                NaN        NaN   \n",
       "14                                                 ..        NaN   \n",
       "15                                                 ..        NaN   \n",
       "16                                                 ..        NaN   \n",
       "\n",
       "                                      Unnamed: 9  ...  \\\n",
       "0                                            NaN  ...   \n",
       "1                                            NaN  ...   \n",
       "2                                            NaN  ...   \n",
       "3                                            NaN  ...   \n",
       "4                                            NaN  ...   \n",
       "5                                            NaN  ...   \n",
       "6                                            MDG  ...   \n",
       "7                                            NaN  ...   \n",
       "8   Ratio of female rate to male rate\\n1995-2005  ...   \n",
       "9                                            NaN  ...   \n",
       "10                                           NaN  ...   \n",
       "11                                           NaN  ...   \n",
       "12                                           NaN  ...   \n",
       "13                                           NaN  ...   \n",
       "14                                            ..  ...   \n",
       "15                                            ..  ...   \n",
       "16                                            ..  ...   \n",
       "\n",
       "                                Unnamed: 21 Unnamed: 22  \\\n",
       "0                                       NaN         NaN   \n",
       "1                                       NaN         NaN   \n",
       "2                                       NaN         NaN   \n",
       "3                                       NaN         NaN   \n",
       "4                                       NaN         NaN   \n",
       "5                                       NaN         NaN   \n",
       "6                                       MDG         NaN   \n",
       "7                                       NaN         NaN   \n",
       "8   Ratio of female rate to male rate\\n2005         NaN   \n",
       "9                                       NaN         NaN   \n",
       "10                                      NaN         NaN   \n",
       "11                                      NaN         NaN   \n",
       "12                                      NaN         NaN   \n",
       "13                                      NaN         NaN   \n",
       "14                                     1.03           e   \n",
       "15                                     1.01         NaN   \n",
       "16                                     0.95         NaN   \n",
       "\n",
       "                    Unnamed: 23 Unnamed: 24  \\\n",
       "0                           NaN         NaN   \n",
       "1                           NaN         NaN   \n",
       "2                           NaN         NaN   \n",
       "3                           NaN         NaN   \n",
       "4                           NaN         NaN   \n",
       "5                           NaN         NaN   \n",
       "6                           NaN         NaN   \n",
       "7   Gross tertiary enrolmentb,d         NaN   \n",
       "8       Female ratio\\n(%)\\n2005         NaN   \n",
       "9                           NaN         NaN   \n",
       "10                          NaN         NaN   \n",
       "11                          NaN         NaN   \n",
       "12                          NaN         NaN   \n",
       "13                          NaN         NaN   \n",
       "14                           93           e   \n",
       "15                           97         NaN   \n",
       "16                           80         NaN   \n",
       "\n",
       "                                Unnamed: 25 Unnamed: 26 Unnamed: 27  \\\n",
       "0                                       NaN         NaN         NaN   \n",
       "1                                       NaN         NaN         NaN   \n",
       "2                                       NaN         NaN         NaN   \n",
       "3                                       NaN         NaN         NaN   \n",
       "4                                       NaN         NaN         NaN   \n",
       "5                                       NaN         NaN         NaN   \n",
       "6                                       MDG         NaN         NaN   \n",
       "7                                       NaN         NaN         NaN   \n",
       "8   Ratio of female rate to male rate\\n2005         NaN         NaN   \n",
       "9                                       NaN         NaN         NaN   \n",
       "10                                      NaN         NaN         NaN   \n",
       "11                                      NaN         NaN         NaN   \n",
       "12                                      NaN         NaN         NaN   \n",
       "13                                      NaN         NaN         NaN   \n",
       "14                                     1.85           e         NaN   \n",
       "15                                     1.54         NaN         NaN   \n",
       "16                                     1.25         NaN         NaN   \n",
       "\n",
       "   Unnamed: 28 Unnamed: 29 Unnamed: 30  \n",
       "0          NaN         NaN         NaN  \n",
       "1          NaN         NaN         NaN  \n",
       "2          NaN         NaN         NaN  \n",
       "3          NaN         NaN         NaN  \n",
       "4          NaN         NaN         NaN  \n",
       "5          NaN         NaN         NaN  \n",
       "6          NaN         NaN         NaN  \n",
       "7          NaN         NaN         NaN  \n",
       "8          NaN         NaN         NaN  \n",
       "9          NaN         NaN         NaN  \n",
       "10         NaN         NaN         NaN  \n",
       "11         NaN         NaN         NaN  \n",
       "12         NaN         NaN         NaN  \n",
       "13         NaN         NaN         NaN  \n",
       "14         NaN         NaN         NaN  \n",
       "15         NaN         NaN         NaN  \n",
       "16         NaN         NaN         NaN  \n",
       "\n",
       "[17 rows x 31 columns]"
      ]
     },
     "execution_count": 54,
     "metadata": {},
     "output_type": "execute_result"
    }
   ],
   "source": [
    "_id = method.input_data[0][\"id\"]\n",
    "df = method.input_dataframe(_id)\n",
    "df.head(17)"
   ]
  },
  {
   "cell_type": "code",
   "execution_count": 55,
   "metadata": {},
   "outputs": [],
   "source": [
    "method.add_input_data_morph(_id,[\"REBASE\",12]) "
   ]
  },
  {
   "cell_type": "code",
   "execution_count": 58,
   "metadata": {},
   "outputs": [],
   "source": [
    "rows = [int(i) for i in np.arange(194, df.index[-1]+1)]\n",
    "method.add_input_data_morph(_id, [\"DELETE\", rows])"
   ]
  },
  {
   "cell_type": "code",
   "execution_count": 59,
   "metadata": {},
   "outputs": [],
   "source": [
    "columns = [\n",
    "    \"HDI rank\",\n",
    "    \"Country\",\n",
    "    \"Female_rate_(%_aged_15_and_older)_1995-2005\",\n",
    "    \"Reference 1\",\n",
    "    \"Ratio_of_female_rate_to_male_rate_1995-2005\",\n",
    "    \"Reference 2\",\n",
    "    \"Female_rate_(%_aged_15-24)_1995-2005\",\n",
    "    \"Reference 3\",\n",
    "    \"Ratio_of_female_rate_to_male_rate_1995-2005\",\n",
    "    \"Reference 4\",\n",
    "    \"Female_rate_(%)_2005\",\n",
    "    \"Reference 5\",\n",
    "    \"Ratio_of_female_rate_to_male_rate_2005\",\n",
    "    \"Reference 6\",\n",
    "    \"Female_ratio_(%)_2005\",\n",
    "    \"Reference 7\",\n",
    "    \"Ratio_of_female_rate_to_male_rate_2005\", \n",
    "    \"Reference 8\",\n",
    "    \"Female_ratio_(%)_2005\",\n",
    "    \"Reference 9\",\n",
    "    \"Ratio_of_female_rate_to_male_rate_2005\",\n",
    "    \"Reference 10\",\n",
    "    \"Female_ratio_(%)_2005\",\n",
    "    \"Reference 11\",\n",
    "    \"Ratio_of_female_rate_to_male_rate_2005\",\n",
    "    \"Reference 12\",\n",
    "    \"HPI-1 rank minus income poverty rank\"\n",
    "]\n",
    "\n",
    "method.add_input_data_morph(_id, [\"RENAME\", columns])"
   ]
  },
  {
   "cell_type": "code",
   "execution_count": null,
   "metadata": {},
   "outputs": [],
   "source": [
    "df = method.input_dataframe(_id)\n",
    "df.head()"
   ]
  },
  {
   "cell_type": "code",
   "execution_count": null,
   "metadata": {},
   "outputs": [],
   "source": [
    "df = method.input_dataframe(_id)\n",
    "df.head(100)"
   ]
  },
  {
   "cell_type": "code",
   "execution_count": null,
   "metadata": {},
   "outputs": [],
   "source": [
    "# indices des lignes de données catégorielles\n",
    "hdi_categories = [\"HIGH HUMAN DEVELOPMENT\", \"MEDIUM HUMAN DEVELOPMENT\", \"LOW HUMAN DEVELOPMENT\"]\n",
    "rows = df[df[\"HDI rank\"].isin(hdi_categories)].index"
   ]
  },
  {
   "cell_type": "code",
   "execution_count": null,
   "metadata": {},
   "outputs": [],
   "source": [
    "type(rows)"
   ]
  },
  {
   "cell_type": "code",
   "execution_count": null,
   "metadata": {},
   "outputs": [],
   "source": [
    "df = method.input_dataframe(_id)\n",
    "df.head()"
   ]
  },
  {
   "cell_type": "code",
   "execution_count": null,
   "metadata": {},
   "outputs": [],
   "source": [
    "method.add_input_data_morph(_id, [\"CATEGORISE\", list(rows), \"HDI category\"])"
   ]
  },
  {
   "cell_type": "code",
   "execution_count": null,
   "metadata": {},
   "outputs": [],
   "source": [
    "df = method.input_dataframe(_id)\n",
    "df.head()"
   ]
  },
  {
   "cell_type": "code",
   "execution_count": null,
   "metadata": {},
   "outputs": [],
   "source": [
    "# Sélectionnez toutes les colonnes à \"melt\"\n",
    "\n",
    "columns = [ \"HDI rank\",\n",
    "            \"Female_rate(%_aged_15_and_older)_1995-2005\",\n",
    "            \"Ratio_of_female_rate_to_male_rate_1995-2005\",\n",
    "            \"Female_rate(%_aged_15-24)_1995-2005\",   \n",
    "            \"Ratio_of_female_rate_to_male_rate_1995-2005\",   \n",
    "            \"Female_rate_(%)_2005\",    \n",
    "            \"Ratio_of_female_rate_to_male_rate_2005\",  \n",
    "            \"Female_ratio_(%)_2005\", \n",
    "            \"Ratio_of_female_rate_to_male_rate_2005\", \n",
    "            \"Female_ratio_(%)_2005\",\n",
    "            \"Ratio_of_female_rate_to_male_rate_2005\",\n",
    "            \"Female_ratio_(%)_2005\",\n",
    "            \"Ratio_of_female_rate_to_male_rate_2005\",\n",
    "            \"HPI-1 rank minus income poverty rank\",\n",
    "]\n",
    "method.add_input_data_morph(_id, [\"MELT\", columns, [\"Indicator Name\", \"Indicator Value\"]])"
   ]
  },
  {
   "cell_type": "code",
   "execution_count": null,
   "metadata": {},
   "outputs": [],
   "source": [
    "columns = [\n",
    "    \"Reference 1\",\n",
    "    \"Reference 2\",\n",
    "    \"Reference 3\",\n",
    "    \"Reference 4\",\n",
    "    \"Reference 5\",\n",
    "    \"Reference 6\",\n",
    "    \"Reference 7\",\n",
    "    \"Reference 8\",\n",
    "    \"Reference 9\",\n",
    "    \"Reference 10\",\n",
    "    \"Reference 11\",\n",
    "    \"Reference 12\",\n",
    "    \n",
    "]\n",
    "\n",
    "method.add_input_data_morph(_id, [\"MELT\", columns, [\"Reference Name\", \"Reference\"]])"
   ]
  },
  {
   "cell_type": "code",
   "execution_count": null,
   "metadata": {},
   "outputs": [],
   "source": [
    "df = method.input_dataframe(_id)\n",
    "df.head(100)"
   ]
  },
  {
   "cell_type": "code",
   "execution_count": null,
   "metadata": {},
   "outputs": [],
   "source": [
    "method.add_input_data_morph(_id, [\"DEBLANK\"])"
   ]
  },
  {
   "cell_type": "code",
   "execution_count": null,
   "metadata": {},
   "outputs": [],
   "source": [
    "df = method.input_dataframe(_id)\n",
    "df.head()"
   ]
  },
  {
   "cell_type": "code",
   "execution_count": 60,
   "metadata": {},
   "outputs": [
    {
     "name": "stdout",
     "output_type": "stream",
     "text": [
      "\n",
      "`merge` will join, in order from right to left, your input data on a common column.\n",
      "\n",
      "To add input data, where `input_data` is a filename, or list of filenames:\n",
      "\n",
      "\t>>> method.add_input_data(input_data)\n",
      "\n",
      "To remove input data, where `id` is the unique id for that input data:\n",
      "\n",
      "\t>>> method.remove_input_data(id)\n",
      "\n",
      "Prepare an `order_and_key` list, where each dict in the list has:\n",
      "\n",
      "\t{{id: input_data id, key: column_name for merge}}\n",
      "\n",
      "Run the merge by calling (and, optionally - if you need to overwrite an existing merge - setting\n",
      "`overwrite_working=True`):\n",
      "\n",
      "\t>>> method.merge(order_and_key, overwrite_working=True)\n",
      "\n",
      "To view your existing `input_data`:\n",
      "\n",
      "\t>>> method.input_data\n",
      "\n",
      "\n",
      "Data id: 0bb99e6c-8f28-4416-9d58-eebc21aa479a\n",
      "Original source: /Users/guiteyjoviale/Documents/STAGE DCDJ/FORMATION BOYERA/HDR 2007-2008 Table 30.xlsx\n",
      "\n",
      "====  ============  ============  ============  ============  ============  ============  ============  ============  ============  ============  =============  =============  =============  =============  =============  =============  =============  =============  =============  =============  =============  =============  =============  =============  =============  =============  =============  =============  =============  =============  =============\n",
      "  ..    Unnamed: 0    Unnamed: 1    Unnamed: 2    Unnamed: 3    Unnamed: 4    Unnamed: 5    Unnamed: 6    Unnamed: 7    Unnamed: 8    Unnamed: 9    Unnamed: 10    Unnamed: 11    Unnamed: 12    Unnamed: 13    Unnamed: 14    Unnamed: 15    Unnamed: 16    Unnamed: 17    Unnamed: 18    Unnamed: 19    Unnamed: 20    Unnamed: 21    Unnamed: 22    Unnamed: 23    Unnamed: 24    Unnamed: 25    Unnamed: 26    Unnamed: 27    Unnamed: 28    Unnamed: 29    Unnamed: 30\n",
      "====  ============  ============  ============  ============  ============  ============  ============  ============  ============  ============  =============  =============  =============  =============  =============  =============  =============  =============  =============  =============  =============  =============  =============  =============  =============  =============  =============  =============  =============  =============  =============\n",
      "   0           nan           nan           nan           nan           nan           nan           nan           nan           nan           nan            nan            nan            nan            nan            nan            nan            nan            nan            nan            nan            nan            nan            nan            nan            nan            nan            nan            nan            nan            nan            nan\n",
      "   1           nan           nan           nan           nan           nan           nan           nan           nan           nan           nan            nan            nan            nan            nan            nan            nan            nan            nan            nan            nan            nan            nan            nan            nan            nan            nan            nan            nan            nan            nan            nan\n",
      "   2           nan           nan           nan           nan           nan           nan           nan           nan           nan           nan            nan            nan            nan            nan            nan            nan            nan            nan            nan            nan            nan            nan            nan            nan            nan            nan            nan            nan            nan            nan            nan\n",
      "====  ============  ============  ============  ============  ============  ============  ============  ============  ============  ============  =============  =============  =============  =============  =============  =============  =============  =============  =============  =============  =============  =============  =============  =============  =============  =============  =============  =============  =============  =============  =============\n",
      "\n",
      "\n",
      "Current method status: `Ready to Merge`\n"
     ]
    }
   ],
   "source": [
    "print(method.help(\"merge\"))"
   ]
  },
  {
   "cell_type": "code",
   "execution_count": 62,
   "metadata": {},
   "outputs": [],
   "source": [
    "%time method.merge(overwrite_working=True)"
   ]
  },
  {
   "cell_type": "code",
   "execution_count": null,
   "metadata": {},
   "outputs": [],
   "source": [
    "print(method.help(\"structure\"))"
   ]
  },
  {
   "cell_type": "code",
   "execution_count": null,
   "metadata": {},
   "outputs": [],
   "source": [
    "structure = {\n",
    "    \"indicator_name\": [\"RENAME\", \"Indicator_Name\"],\n",
    "    \"hdi_categories\": [\"RENAME\",\"hdi_categories\"],\n",
    "    \"country_name\":[\"RENAME\",\"country_name\"],\n",
    "    \"year\": [\"RENAME\", \"year\"]\n",
    "    \"reference\": [\"RENAME\", \"Reference\"],\n",
    "    \"values\":[\"RENAME\",\"Indicator Value\"],\n",
    "}\n",
    "method.set_structure(**structure)"
   ]
  },
  {
   "cell_type": "code",
   "execution_count": null,
   "metadata": {},
   "outputs": [],
   "source": [
    "#method.transform(overwrite_output=True)\n",
    "FILENAME = \"Gender_inequality\"\n",
    "method.save(directory, filename=FILENAME, overwrite=True)"
   ]
  },
  {
   "cell_type": "code",
   "execution_count": null,
   "metadata": {},
   "outputs": [],
   "source": [
    "method.input_data_morphs(_id)"
   ]
  },
  {
   "cell_type": "code",
   "execution_count": null,
   "metadata": {},
   "outputs": [],
   "source": [
    "%time method.validates"
   ]
  },
  {
   "cell_type": "code",
   "execution_count": null,
   "metadata": {},
   "outputs": [],
   "source": [
    "df = pd.read_csv(\"/Users/guiteyjoviale/Documents/STAGE DCDJ/FORMATION BOYERA/TABLE_30.csv\")\n",
    "df.head()"
   ]
  },
  {
   "cell_type": "code",
   "execution_count": null,
   "metadata": {},
   "outputs": [],
   "source": [
    "method.input_data_morphs(_id)"
   ]
  },
  {
   "cell_type": "code",
   "execution_count": null,
   "metadata": {},
   "outputs": [],
   "source": [
    "from pandas_schema import Column, Schema\n",
    "from pandas_schema.validation import LeadingWhitespaceValidation, TrailingWhitespaceValidation, IsDtypeValidation, InListValidation\n",
    "\n",
    "columns = [\"HDI rank\",\"country_name\", \"hdi_category\", \"values\"]\n",
    "\n",
    "hdi_categories = [\"HIGH HUMAN DEVELOPMENT\", \"MEDIUM HUMAN DEVELOPMENT\", \"LOW HUMAN DEVELOPMENT\"]\n",
    "\n",
    "schema = Schema([\n",
    "    Column(\"country_name\", [LeadingWhitespaceValidation(), TrailingWhitespaceValidation()]),\n",
    "    Column(\"hdi_category\", [InListValidation(hdi_categories)]),\n",
    "    Column(\"values\", [IsDtypeValidation(np.dtype(float)), IsDtypeValidation(np.dtype(int))])\n",
    "])\n",
    "\n",
    "errors = schema.validate(df[columns])\n",
    "\n",
    "print(F\"Nombre d'erreurs :  {len(errors)}\")\n",
    "\n",
    "for error in errors[:10]:\n",
    "    print(error)"
   ]
  },
  {
   "cell_type": "code",
   "execution_count": null,
   "metadata": {},
   "outputs": [],
   "source": [
    "for l in method.citation.split(\",\"):\n",
    "    print(l)"
   ]
  }
 ],
 "metadata": {
  "kernelspec": {
   "display_name": "Python 3",
   "language": "python",
   "name": "python3"
  },
  "language_info": {
   "codemirror_mode": {
    "name": "ipython",
    "version": 3
   },
   "file_extension": ".py",
   "mimetype": "text/x-python",
   "name": "python",
   "nbconvert_exporter": "python",
   "pygments_lexer": "ipython3",
   "version": "3.7.3"
  }
 },
 "nbformat": 4,
 "nbformat_minor": 2
}
